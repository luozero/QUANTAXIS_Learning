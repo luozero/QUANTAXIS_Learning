{
 "cells": [
  {
   "cell_type": "code",
   "execution_count": 1,
   "metadata": {},
   "outputs": [
    {
     "name": "stdout",
     "output_type": "stream",
     "text": [
      "jqdatasdk not installed\n"
     ]
    },
    {
     "name": "stderr",
     "output_type": "stream",
     "text": [
      "/home/work_space/QUANTAXIS/QUANTAXIS/QAFetch/QAhuobi_realtime.py:667: FutureWarning: The default dtype for empty Series will be 'object' instead of 'float64' in a future version. Specify a dtype explicitly to silence this warning.\n",
      "  candleline=pd.Series(),\n"
     ]
    },
    {
     "name": "stdout",
     "output_type": "stream",
     "text": [
      "you are using non-interactive mdoel quantaxis\n"
     ]
    }
   ],
   "source": [
    "# import jqdatasdk\n",
    "import pandas as pd\n",
    "import QUANTAXIS as QA\n",
    "\n",
    "from QUANTAXIS.QAFactor.analyze import FactorAnalyzer\n",
    "from QUANTAXIS.QAFactor.data import DataApi\n",
    "import QUANTAXIS.QAFactor.preprocess as preprocess\n",
    "import QUANTAXIS.QAFactor.tears as tears\n",
    "import QUANTAXIS.QAFactor.utils as utils\n",
    "\n",
    "\n",
    "# 因子股票池\n",
    "code_list = QA.QA_fetch_stock_block_adv().get_block(\n",
    "    \"白酒\").index.get_level_values(\"code\").tolist()\n",
    "\n",
    "# 数据时间范围\n",
    "start_date = '2018-01-01'\n",
    "end_date = '2019-09-30'\n",
    "\n",
    "# 日线数据\n",
    "# 注意：这里需要取出 dataframe 格式数据\n",
    "stock_data = QA.QA_fetch_stock_day_adv(code=code_list,\n",
    "                                       start=start_date,\n",
    "                                       end=end_date).to_qfq().data"
   ]
  },
  {
   "cell_type": "code",
   "execution_count": 2,
   "metadata": {},
   "outputs": [
    {
     "name": "stdout",
     "output_type": "stream",
     "text": [
      "                        open       high        low      close    volume  \\\n",
      "date       code                                                           \n",
      "2018-01-02 000568  61.511104  61.779348  60.216134  60.845119  123059.0   \n",
      "           000596  62.706262  64.180472  61.916846  63.914163   39765.0   \n",
      "           000799  26.564443  26.817438  26.311449  26.690941   62390.0   \n",
      "           000858  74.473510  75.216387  72.737032  74.826377  315252.0   \n",
      "           000860  14.555625  14.639104  14.472147  14.532858   30280.0   \n",
      "...                      ...        ...        ...        ...       ...   \n",
      "2019-09-30 600809  54.648672  55.128170  54.014042  54.514694   39013.0   \n",
      "           603198  21.417968  21.502549  20.412385  20.515763   94874.0   \n",
      "           603369  32.170221  32.751261  31.221190  31.298662   91576.0   \n",
      "           603589  52.948179  53.263899  51.796728  51.796728   41316.0   \n",
      "           603919  14.059350  14.208918  13.236729  13.333948   93575.0   \n",
      "\n",
      "                         amount       adj  \n",
      "date       code                            \n",
      "2018-01-02 000568  8.085757e+08  0.924979  \n",
      "           000596  2.647385e+08  0.951104  \n",
      "           000799  1.702419e+08  0.973057  \n",
      "           000858  2.515565e+09  0.928597  \n",
      "           000860  5.797804e+07  0.758896  \n",
      "...                         ...       ...  \n",
      "2019-09-30 600809  3.020973e+08  0.705144  \n",
      "           603198  2.105364e+08  0.939797  \n",
      "           603369  3.006223e+08  0.968399  \n",
      "           603589  2.338632e+08  0.928590  \n",
      "           603919  1.711065e+08  0.747838  \n",
      "\n",
      "[8377 rows x 7 columns]\n"
     ]
    }
   ],
   "source": [
    "print(stock_data)"
   ]
  },
  {
   "cell_type": "code",
   "execution_count": 3,
   "metadata": {},
   "outputs": [],
   "source": [
    "kdj = stock_data.groupby(\"code\").apply(\n",
    "    QA.QAIndicator.QA_indicator_KDJ).droplevel(level=-1)\n",
    "k_value = kdj[\"KDJ_K\"]\n",
    "d_value = kdj[\"KDJ_D\"]\n",
    "j_value = kdj[\"KDJ_J\"]"
   ]
  },
  {
   "cell_type": "code",
   "execution_count": 4,
   "metadata": {},
   "outputs": [
    {
     "name": "stdout",
     "output_type": "stream",
     "text": [
      "code    date      \n",
      "000568  2018-01-11    91.076923\n",
      "        2018-01-12    91.076923\n",
      "        2018-01-15    88.064586\n",
      "        2018-01-16    85.224875\n",
      "        2018-01-17    69.078053\n",
      "                        ...    \n",
      "603919  2019-09-24    75.862493\n",
      "        2019-09-25    77.064529\n",
      "        2019-09-26    81.578162\n",
      "        2019-09-27    83.891356\n",
      "        2019-09-30    77.492053\n",
      "Name: KDJ_K, Length: 8237, dtype: float64\n"
     ]
    }
   ],
   "source": [
    "print(k_value)"
   ]
  }
 ],
 "metadata": {
  "kernelspec": {
   "display_name": "quant",
   "language": "python",
   "name": "python3"
  },
  "language_info": {
   "codemirror_mode": {
    "name": "ipython",
    "version": 3
   },
   "file_extension": ".py",
   "mimetype": "text/x-python",
   "name": "python",
   "nbconvert_exporter": "python",
   "pygments_lexer": "ipython3",
   "version": "3.8.10"
  },
  "orig_nbformat": 4
 },
 "nbformat": 4,
 "nbformat_minor": 2
}
